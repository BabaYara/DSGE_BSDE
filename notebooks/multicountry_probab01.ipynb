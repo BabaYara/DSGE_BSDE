{
 "cells": [
  {
   "cell_type": "markdown",
   "metadata": {},
   "source": [
    "# Multicountry Model — Probab_01 (Table 1)\n",
    "\n",
    "This notebook wires a multicountry (vector) continuous-time model to the BSDE solver.\n",
    "It is a template to reproduce Table 1 in `Probab_01.pdf`. Provide the calibration\n",
    "from the paper to match the reported results.\n"
   ]
  },
  {
   "cell_type": "code",
   "execution_count": null,
   "metadata": {},
   "outputs": [],
   "source": [
    "# Visual style: accessible color cycle, high-DPI, subtle grids\n",
    "try:\n",
    "    from bsde_dsgE.utils.nb_style import apply_notebook_style\n",
    "    apply_notebook_style()\n",
    "except Exception as e:\n",
    "    print('Style setup skipped:', e)\n"
   ]
  },
  {
   "cell_type": "markdown",
   "metadata": {},
   "source": [
    "## Math → Code map\n",
    "\n",
    "Equations (19)–(22) from `Tex/Model.tex` define the macro BSDE: (19) analytic symmetric-state `q = (a·ψ+1)/(ρ·ψ+1)`, (20) BSDE driver `h`, (21) η drift/vol, and (22) ζ drift/vol. The code mapping lives in `bsde_dsgE/models/probab01_equations.py::compute_dynamics`, and the symmetric analytic check is available via `q_symmetric_analytic(a, ψ, ρ)`.\n",
    "\n",
    "For forward path visuals (mean±2SE, rolling correlations) we simulate a simple vector SDE separately from the BSDE training (see `bsde_dsgE/models/multicountry.py`). The deep‑solver/driver uses the paper’s `h`, drifts, and diffusions; symmetric‑state `q` and `σ_q` values come from the paper’s Table 1 (parsed into JSON/TeX helpers). Terminal conditions for the deep solver follow the paper’s scheme (no explicit terminal is required for the backward‑Euler regression variant)."
   ]
  },
  {
   "cell_type": "markdown",
   "metadata": {},
   "source": [
    "### Equations (19)–(22) linkage\n",
    "\n",
    "The deep-solver variant follows the Try.md equations and `Tex/Model.tex` labels: (19) symmetric-state q, (20) BSDE driver h, (21) η drift/vol, (22) ζ drift/vol. See `bsde_dsgE/models/probab01_equations.py` for the code mapping and `scripts/compare_table1_solver.py --from-tex` to compare against the symmetric-state table parsed directly from LaTeX."
   ]
  },
  {
   "cell_type": "code",
   "execution_count": null,
   "metadata": {},
   "outputs": [],
   "source": [
    "import os, math\n",
    "import jax, jax.numpy as jnp\n",
    "import numpy as np\n",
    "import matplotlib.pyplot as plt\n",
    "from pathlib import Path\n",
    "from bsde_dsgE.models.multicountry import multicountry_probab01\n",
    "from bsde_dsgE.core import load_solver_nd\n",
    "from bsde_dsgE.utils.calibration import load_probab01_calibration\n",
    "from bsde_dsgE.metrics.table1 import summary_stats, compare_to_targets\n",
    "\n",
    "FAST = bool(os.environ.get('NOTEBOOK_FAST', ''))\n",
    "key = jax.random.PRNGKey(0)\n",
    "print({'FAST': FAST, 'jax': jax.__version__, 'device': jax.default_backend()})\n"
   ]
  },
  {
   "cell_type": "code",
   "execution_count": null,
   "metadata": {},
   "outputs": [],
   "source": [
    "# Parameters — load from calibration file if available, else defaults\n",
    "calib_path = Path('data/probab01_table1.json')\n",
    "if calib_path.exists():\n",
    "    calib = load_probab01_calibration(calib_path)\n",
    "    dim, rho, gamma, kappa, theta, sigma = (calib.dim, calib.rho, calib.gamma, calib.kappa, calib.theta, calib.sigma)\n",
    "else:\n",
    "    dim = 2  # countries\n",
    "    rho = 0.05\n",
    "    gamma = 8.0\n",
    "    kappa = 0.2\n",
    "    theta = 1.0\n",
    "    sigma = 0.3\n",
    "t0, t1 = 0.0, 1.0\n",
    "dt = 0.05 if FAST else 0.02\n",
    "batch = 16 if FAST else 64\n",
    "depth, width = (2, 32) if FAST else (4, 128)\n",
    "\n",
    "prob = multicountry_probab01(dim=dim, rho=rho, gamma=gamma, kappa=kappa, theta=theta, sigma=sigma, t0=t0, t1=t1)\n",
    "solver = load_solver_nd(prob, dim=dim, dt=dt, depth=depth, width=width)\n",
    "x0 = jnp.ones((batch, dim)) * theta\n",
    "loss = solver(x0, key)\n",
    "float(loss)\n"
   ]
  },
  {
   "cell_type": "markdown",
   "metadata": {},
   "source": [
    "## Diffusion heatmap\n",
    "\n",
    "Visualise the diffusion used: either diagonal `σ` or full `Σ` if provided in calibration."
   ]
  },
  {
   "cell_type": "code",
   "execution_count": null,
   "metadata": {},
   "outputs": [],
   "source": [
    "# Build diffusion matrix for display\n",
    "import numpy as np\n",
    "if isinstance(sigma, (list, tuple)):\n",
    "    diag = np.array(sigma, dtype=float)\n",
    "    Sigma_disp = np.diag(diag)\n",
    "elif isinstance(sigma, (float, int)):\n",
    "    Sigma_disp = np.diag(np.ones(dim) * float(sigma))\n",
    "else:\n",
    "    Sigma_disp = np.diag(np.ones(dim))\n",
    "figH, axH = plt.subplots(figsize=(3.5,3))\n",
    "im = axH.imshow(Sigma_disp, cmap='viridis', aspect='equal')\n",
    "cb = figH.colorbar(im, ax=axH); cb.set_label('σ (diag)')\n",
    "axH.set_title('Diffusion (diag σ) display')\n",
    "axH.set_xlabel('dim'); axH.set_ylabel('dim')\n",
    "figH.tight_layout(); figH\n"
  ]
 },
  {
   "cell_type": "markdown",
   "metadata": {},
   "source": [
    "## Sample paths and diagnostics\n",
    "\n",
    "Below we simulate a few forward steps using the `BSDEProblem.step` function\n",
    "to visualise the state evolution. This is for intuition only; the solver\n",
    "itself learns the backward components (Y, Z)."
   ]
  },
  {
   "cell_type": "code",
   "execution_count": null,
   "metadata": {},
   "outputs": [],
   "source": [
    "# Simulate a few forward steps to visualise state paths\n",
    "N = int((t1 - t0)/dt)\n",
    "x = x0[:4]  # 4 sample paths\n",
    "ts = [t0]\n",
    "xs = [np.array(x)]\n",
    "for i in range(N):\n",
    "    t = t0 + i*dt\n",
    "    dW = jax.random.normal(jax.random.fold_in(key, i), x.shape) * math.sqrt(dt)\n",
    "    x = prob.step(x, t, dt, dW)\n",
    "    ts.append(t+dt); xs.append(np.array(x))\n",
    "xs = np.stack(xs, axis=0)  # (N+1, paths, dim)\n",
    "fig, ax = plt.subplots(1, dim, figsize=(4*dim, 3), sharex=True, sharey=True)\n",
    "ax = np.atleast_1d(ax)\n",
    "for d in range(dim):\n",
    "    for p in range(xs.shape[1]):\n",
    "        ax[d].plot(ts, xs[:, p, d], alpha=0.7)\n",
    "    ax[d].set_title(f'Country {d+1}')\n",
    "    ax[d].set_xlabel('t'); ax[d].set_ylabel('state')\n",
    "fig.suptitle('State sample paths')\n",
    "fig.tight_layout()\n",
    "fig\n"
   ]
  },
  {
   "cell_type": "markdown",
   "metadata": {},
   "source": [
    "## Impulse responses (deterministic)\n",
    "\n",
    "Set noise to zero to see mean reversion dynamics after a small one-time shock at t=0."
   ]
  },
  {
   "cell_type": "code",
   "execution_count": null,
   "metadata": {},
   "outputs": [],
   "source": [
    "shock = jnp.zeros((4, dim)); shock = shock.at[:,0].set(0.2)  # shock first country\n",
    "x_irf = x0[:4] + shock\n",
    "ts_irf = [t0]; xs_irf = [np.array(x_irf)]\n",
    "for i in range(N):\n",
    "    t = t0 + i*dt\n",
    "    dW0 = jnp.zeros_like(x_irf)\n",
    "    x_irf = prob.step(x_irf, t, dt, dW0)\n",
    "    ts_irf.append(t+dt); xs_irf.append(np.array(x_irf))\n",
    "xs_irf = np.stack(xs_irf, axis=0)\n",
    "figI, axI = plt.subplots(1, dim, figsize=(4*dim, 3), sharex=True, sharey=True)\n",
    "axI = np.atleast_1d(axI)\n",
    "for d in range(dim):\n",
    "    for p in range(xs_irf.shape[1]):\n",
    "        axI[d].plot(ts_irf, xs_irf[:, p, d], alpha=0.8)\n",
    "    axI[d].axhline(float(theta), color='k', lw=1, ls='--', alpha=0.5)\n",
    "    axI[d].set_title(f'IRF: Country {d+1}')\n",
    "figI.suptitle('Impulse responses (noise off)'); figI.tight_layout(); figI\n"
   ]
  },
  {
   "cell_type": "markdown",
   "metadata": {},
   "source": [
    "## Animation (optional)"
   ]
  },
  {
   "cell_type": "code",
   "execution_count": null,
   "metadata": {
    "tags": [
     "hide-output"
    ]
   },
   "outputs": [],
   "source": [
    "# Matplotlib animation of evolving states (display as HTML in VS Code/Jupyter)\n",
    "from matplotlib import animation\n",
    "\n",
    "fig2, ax2 = plt.subplots(1, dim, figsize=(4*dim, 3), sharex=True, sharey=True)\n",
    "ax2 = np.atleast_1d(ax2)\n",
    "lines = [[ax2[d].plot([], [], lw=2)[0] for _ in range(xs.shape[1])] for d in range(dim)]\n",
    "for d in range(dim):\n",
    "    ax2[d].set_xlim(ts[0], ts[-1])\n",
    "    ax2[d].set_ylim(xs.min()*1.1, xs.max()*1.1)\n",
    "    ax2[d].set_title(f'Country {d+1}')\n",
    "\n",
    "def init():\n",
    "    for d in range(dim):\n",
    "        for p in range(xs.shape[1]):\n",
    "            lines[d][p].set_data([], [])\n",
    "    return sum(lines, [])\n",
    "\n",
    "def animate(i):\n",
    "    for d in range(dim):\n",
    "        for p in range(xs.shape[1]):\n",
    "            lines[d][p].set_data(ts[:i+1], xs[:i+1, p, d])\n",
    "    return sum(lines, [])\n",
    "\n",
    "ani = animation.FuncAnimation(fig2, animate, init_func=init, frames=N+1, interval=100, blit=True)\n",
    "ani.to_jshtml()\n"
   ]
  },
  {
   "cell_type": "markdown",
   "metadata": {},
   "source": [
    "## Table 1 reproduction hooks\n",
    "\n",
    "Replace the placeholders below with moment computations and assert-allclose\n",
    "against the Table 1 values once provided."
   ]
  },
  {
   "cell_type": "code",
   "execution_count": null,
   "metadata": {},
   "outputs": [],
   "source": [
    "# Compute summary statistics and optionally compare to targets\n",
    "stats = summary_stats(xs)\n",
    "print({k: (v.tolist() if hasattr(v, 'tolist') else v) for k, v in stats.items() if k in ('mean','std')})\n",
    "\n",
    "# If Table 1 targets are provided in calibration, compare and highlight diffs\n",
    "if calib_path.exists() and calib.table1_targets and 'examples' in calib.table1_targets:\n",
    "    targets = calib.table1_targets['examples']\n",
    "    res = compare_to_targets(stats, targets)\n",
    "    print('Comparison:', res)\n",
    "    # TODO: extend to the actual Table 1 statistics once provided\n"
    ]
  }
  ,
  {
   "cell_type": "code",
   "execution_count": null,
   "metadata": {},
   "outputs": [],
   "source": [
    "# Optional strict check for CI: set STRICT_TABLE1=1 to enforce passing\n",
    "import os\n",
    "if os.environ.get('STRICT_TABLE1','') and calib_path.exists() and calib.table1_targets and 'examples' in calib.table1_targets:\n",
    "    res = compare_to_targets(stats, calib.table1_targets['examples'])\n",
    "    assert res.get('all_ok', False), f'Table 1 comparison failed: {res}'\n"
   ]
  }
  ,
  {
   "cell_type": "markdown",
   "metadata": {},
   "source": [
    "## Paper Table 1 (symmetric states)\n",
    "\n",
    "We load the transcribed values for Table 1 and display `q_i` and `sigma_{q,i,j}` under symmetric states (η, ζ)."
   ]
  },
  {
   "cell_type": "code",
   "execution_count": null,
   "metadata": {},
   "outputs": [],
   "source": [
    "import json\n",
    "cal = json.loads(calib_path.read_text()) if calib_path.exists() else {}\n",
    "paper = cal.get('table1_values', {})\n",
    "sym = paper.get('symmetric_states', [])\n",
    "# Optional country names for J (sigma_q heatmaps)\n",
    "namesJ = cal.get('country_names_J') or cal.get('probab01_params', {}).get('country_names', [])\n",
    "for st in sym:\n",
    "    print('eta=', st['eta'], ', zeta=', st['zeta'])\n",
    "    print('q:', st['q'])\n",
    "    # show sigma heatmap (diverging cmap, symmetric about zero)\n",
    "    mat = np.array(st['sigma_q'])\n",
    "    mabs = float(np.max(np.abs(mat))) if mat.size else 1.0\n",
    "    figS, axS = plt.subplots(figsize=(3.6,3.2))\n",
    "    im = axS.imshow(mat, cmap='coolwarm', vmin=-mabs, vmax=mabs)\n",
    "    axS.set_aspect('equal')\n",
    "    cb = figS.colorbar(im, ax=axS); cb.set_label('σ_q')\n",
    "    axS.set_title('σ_{q,i,j} (symmetric scale)')\n",
    "    axS.set_xlabel('j'); axS.set_ylabel('i')\n",
    "    axS.set_xticks(range(len(mat))); axS.set_yticks(range(len(mat)))\n",
    "    labels = namesJ if isinstance(namesJ, list) and len(namesJ)==len(mat) else [f'C{j+1}' for j in range(len(mat))]\n",
    "    axS.set_xticklabels(labels); axS.set_yticklabels(labels)\n",
    "    figS.tight_layout()\n",
    "    plt.show()\n"
   ]
  },
  {
   "cell_type": "markdown",
   "metadata": {},
   "source": [
    "## Mean ± 2SE (by country)\n",
    "\n",
    "Naive error bars for the per-dimension sample mean using 2×standard error (ignoring serial correlation). This is a quick diagnostic, not an inference statement."
   ]
  },
  {
   "cell_type": "code",
   "execution_count": null,
   "metadata": {},
   "outputs": [],
   "source": [
    "import numpy as np\n",
    "flat = xs.reshape(xs.shape[0]*xs.shape[1], xs.shape[2])\n",
    "m = flat.mean(axis=0)\n",
    "s = flat.std(axis=0, ddof=1)\n",
    "se = s / np.sqrt(flat.shape[0])\n",
    "# Optional names for dim from calibration\n",
    "names_dim = cal.get('country_names_dim') or cal.get('country_names', [])\n",
    "labels = names_dim if isinstance(names_dim, list) and len(names_dim)==dim else [f'C{j+1}' for j in range(dim)]\n",
    "if dim > 6:\n",
    "    figM, axM = plt.subplots(figsize=(2.2*max(6, dim/1.2), 0.35*dim + 2.5))\n",
    "    ypos = np.arange(dim)\n",
    "    bars = axM.barh(ypos, m, xerr=2*se, alpha=0.85, error_kw={'capsize':3})\n",
    "    axM.set_yticks(ypos); axM.set_yticklabels(labels)\n",
    "    axM.set_title('Mean ± 2SE by country')\n",
    "    axM.set_xlabel('value'); axM.set_ylabel('country')\n",
    "    xmax = float(np.max(m + 2*se)) if m.size else 1.0\n",
    "    for i, b in enumerate(bars):\n",
    "        x = b.get_width(); axM.annotate(f'{m[i]:.2f} ± {2*se[i]:.2f}',\n",
    "            xy=(x, b.get_y() + b.get_height()/2), xytext=(4, 0), textcoords='offset points',\n",
    "            ha='left', va='center', fontsize=9)\n",
    "    axM.set_xlim(right=1.1*xmax)\n",
    "else:\n",
    "    figM, axM = plt.subplots(figsize=(1.2*max(6, dim), 3.0))\n",
    "    xpos = np.arange(dim)\n",
    "    bars = axM.bar(xpos, m, yerr=2*se, alpha=0.85, error_kw={'capsize':3})\n",
    "    axM.set_title('Mean ± 2SE by country')\n",
    "    axM.set_xlabel('country'); axM.set_ylabel('value')\n",
    "    axM.set_xticks(xpos); axM.set_xticklabels(labels)\n",
    "    ymax = float(np.max(m + 2*se)) if m.size else 1.0\n",
    "    for i, b in enumerate(bars):\n",
    "        y = b.get_height(); axM.annotate(f'{m[i]:.2f} ± {2*se[i]:.2f}',\n",
    "            xy=(b.get_x() + b.get_width()/2, y), xytext=(0, 4), textcoords='offset points',\n",
    "            ha='center', va='bottom', fontsize=9)\n",
    "    axM.set_ylim(top=1.1*ymax)\n",
    "figM.tight_layout(); plt.show()\n"
   ]
  },
  {
   "cell_type": "markdown",
   "metadata": {},
   "source": [
    "## Rolling Correlation Heatmap (animation)\n",
    "\n",
    "Compute a rolling correlation of states across countries and animate it over time windows to visualise co-movement dynamics."
   ]
  },
  {
   "cell_type": "code",
   "execution_count": null,
   "metadata": {
    "tags": [
     "hide-output"
    ]
   },
   "outputs": [],
   "source": [
    "from matplotlib import animation as _anim\n",
    "def _corr_from_block(block):\n",
    "    B = block.reshape(-1, block.shape[-1])\n",
    "    cov = np.cov(B, rowvar=False)\n",
    "    sd = np.sqrt(np.clip(np.diag(cov), 1e-12, None))\n",
    "    denom = np.outer(sd, sd)\n",
    "    return np.where(denom>0, cov/denom, 0.0)\n",
    "W = min(20, xs.shape[0]-1)\n",
    "frames = min(50, xs.shape[0]-W) if FAST else xs.shape[0]-W\n",
    "figC, axC = plt.subplots(figsize=(3.5,3.0))\n",
    "img = axC.imshow(_corr_from_block(xs[:W]), vmin=-1, vmax=1, cmap='coolwarm')\n",
    "axC.set_aspect('equal')\n",
    "cb = figC.colorbar(img, ax=axC); cb.set_label('corr')\n",
    "# correlation labels\n",
    "D = _corr_from_block(xs[:W]).shape[0]\n",
    "ticks = range(D)\n",
    "names_dim = cal.get('country_names_dim') or cal.get('country_names', [])\n",
    "labs = names_dim if isinstance(names_dim, list) and len(names_dim)==D else [f'C{j+1}' for j in ticks]\n",
    "axC.set_xticks(ticks); axC.set_xticklabels(labs)\n",
    "axC.set_yticks(ticks); axC.set_yticklabels(labs)\n",
    "axC.set_title('Rolling corr (window={})'.format(W))\n",
    "def _init():\n",
    "    img.set_data(_corr_from_block(xs[:W])); return (img,)\n",
    "def _animate(i):\n",
    "    block = xs[i:i+W]\n",
    "    img.set_data(_corr_from_block(block))\n",
    "    return (img,)\n",
    "aniC = _anim.FuncAnimation(figC, _animate, init_func=_init, frames=frames, interval=120, blit=True)\n",
    "aniC.to_jshtml()\n"
   ]
  },
  {
   "cell_type": "markdown",
   "metadata": {},
   "source": [
    "## Diagnostics via utils/figures\n",
    "We use helper functions to simulate paths (optionally Sobol), compute mean ± 2SE, and rolling correlations."
   ]
  },
  {
   "cell_type": "code",
   "execution_count": null,
   "metadata": {},
   "outputs": [],
   "source": [
    "from bsde_dsgE.utils.figures import simulate_paths, mean_and_2se, rolling_corr, impulse_response\n",
    "steps = 20 if FAST else 100\n",
    "sim = simulate_paths(prob, x0, steps=steps, dt=dt, key=key)\n",
    "xs = sim.xs  # (T+1, P, dim)\n",
    "m, e2 = mean_and_2se(xs)\n",
    "print({'mean': m.tolist(), '2SE': e2.tolist()})\n",
    "W = min(10, xs.shape[0]-1) if FAST else min(30, xs.shape[0]-1)\n",
    "corrs = rolling_corr(xs, window=W)\n",
    "corrs.shape\n"
   ]
  },
  {
   "cell_type": "code",
   "execution_count": null,
   "metadata": {},
   "outputs": [],
   "source": [
    "# Impulse response on state 0\n",
    "mb, ms, irf = impulse_response(prob, x0, steps=steps, dt=dt, shock_dim=0, shock_size=0.1, key=key)\n",
    "fig, ax = plt.subplots(figsize=(4, 2.5))\n",
    "ax.plot(irf[:, 0], label='IRF dim0'); ax.legend(); fig.tight_layout(); plt.show()\n"
   ]
  }
  ,
  {
   "cell_type": "markdown",
   "metadata": {},
   "source": [
    "## Analytic q (eq. 19) sanity check\n",
    "\n",
    "For symmetric states (ζ_j = 1/J), eq. (19) implies\\n",
    "\\n",
    "q = (a·ψ + 1) / (ρ·ψ + 1).\\n",
    "\\n",
    "Use `bsde_dsgE.models.probab01_equations.q_symmetric_analytic(a, ψ, ρ)` to compute this reference value and compare against the displayed `table1_values.q` block. For a direct comparison against LaTeX-parsed values, see the CLI: `python scripts/compare_table1_solver.py --calib data/probab01_table1.json --from-tex`."
   ]
  }
 ],
 "metadata": {
  "kernelspec": {
   "display_name": "Python 3",
   "language": "python",
   "name": "python3"
  },
  "language_info": {
   "name": "python",
   "version": "3.11"
  }
 },
 "nbformat": 4,
 "nbformat_minor": 5
}
