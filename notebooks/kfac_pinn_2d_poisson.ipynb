{
 "cells": [
  {
   "cell_type": "markdown",
   "id": "8c38341c",
   "metadata": {},
   "source": [
    "# 2-D Poisson with KFAC\n",
    "This notebook shows `poisson_nd_residual`."
   ]
  },
  {
   "cell_type": "code",
   "execution_count": null,
   "id": "f798bc4c",
   "metadata": {},
   "outputs": [],
   "source": [
    "import jax, jax.numpy as jnp\n",
    "import equinox as eqx\n",
    "from bsde_dsgE.kfac import KFACPINNSolver, poisson_nd_residual\n",
    "\n",
    "net = eqx.nn.MLP(in_size=2, out_size=1, width_size=16, depth=2, key=jax.random.PRNGKey(0))\n",
    "\n",
    "def loss_fn(net, x):\n",
    "    interior = x\n",
    "    bc = jnp.array([[0.0, 0.0], [0.0, 1.0], [1.0, 0.0], [1.0, 1.0]])\n",
    "    res = poisson_nd_residual(lambda z: net(z).squeeze(), interior)\n",
    "    bc_res = net(bc).squeeze()\n",
    "    return jnp.mean(res ** 2) + jnp.mean(bc_res ** 2)\n",
    "\n",
    "solver = KFACPINNSolver(net=net, loss_fn=loss_fn, lr=1e-2, num_steps=10)\n",
    "xs = jax.random.uniform(jax.random.PRNGKey(1), (16, 2))\n",
    "losses = solver.run(xs, jax.random.PRNGKey(2))\n",
    "print('final loss', float(losses[-1]))"
   ]
  }
 ],
 "metadata": {
  "kernelspec": {
   "display_name": "Python 3",
   "language": "python",
   "name": "python3"
  },
  "language_info": {
   "name": "python",
   "version": "3.12"
  }
 },
 "nbformat": 4,
 "nbformat_minor": 5
}
