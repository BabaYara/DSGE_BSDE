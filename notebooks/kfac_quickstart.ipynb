{
 "cells": [
  {
   "cell_type": "markdown",
   "metadata": {},
   "source": [
    "# Quickstart: Training a PINN with KFAC"
   ]
  },
  {
   "cell_type": "code",
   "metadata": {},
   "source": [
    "import jax\n",
    "import jax.numpy as jnp\n",
    "import equinox as eqx\n",
    "from bsde_seed.bsde_dsgE.optim import KFACPINNSolver"
   ]
  },
  {
   "cell_type": "code",
   "metadata": {},
   "source": [
    "def residual(net: eqx.Module, x: jnp.ndarray) -> jnp.ndarray:\n",
    "    y = net(x)\n",
    "    return jnp.mean(y ** 2)"
   ]
  },
  {
   "cell_type": "code",
   "metadata": {},
   "source": [
    "key = jax.random.PRNGKey(0)\n",
    "net = eqx.nn.MLP(in_size=1, out_size=1, width_size=8, depth=2, key=key)\n",
    "solver = KFACPINNSolver(net=net, loss_fn=residual, num_steps=100)\n",
    "x = jnp.zeros((1, 1))\n",
    "losses = solver.run(x, key)\n",
    "float(losses[-1])"
   ]
  }
 ],
 "metadata": {
  "kernelspec": {
   "display_name": "Python 3",
   "language": "python",
   "name": "python3"
  },
  "language_info": {
   "name": "python",
   "pygments_lexer": "ipython3"
  }
 },
 "nbformat": 4,
 "nbformat_minor": 5
}
