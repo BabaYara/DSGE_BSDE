{
 "cells": [
  {
   "cell_type": "markdown",
   "metadata": {},
   "source": [
    "# KFAC API Overview\n",
    "Simple demonstration of the `bsde_dsgE` package."
   ]
  },
  {
   "cell_type": "code",
   "execution_count": 1,
   "metadata": {},
   "outputs": [
    {
     "ename": "TypeError",
     "evalue": "multiple bases have instance lay-out conflict",
     "output_type": "error",
     "traceback": [
      "\u001b[0;31m---------------------------------------------------------------------------\u001b[0m",
      "\u001b[0;31mTypeError\u001b[0m                                 Traceback (most recent call last)",
      "Cell \u001b[0;32mIn[1], line 2\u001b[0m\n\u001b[1;32m      1\u001b[0m \u001b[38;5;28;01mimport\u001b[39;00m \u001b[38;5;21;01mjax\u001b[39;00m\u001b[38;5;241m,\u001b[39m \u001b[38;5;21;01mjax\u001b[39;00m\u001b[38;5;21;01m.\u001b[39;00m\u001b[38;5;21;01mnumpy\u001b[39;00m \u001b[38;5;28;01mas\u001b[39;00m \u001b[38;5;21;01mjnp\u001b[39;00m\n\u001b[0;32m----> 2\u001b[0m \u001b[38;5;28;01mimport\u001b[39;00m \u001b[38;5;21;01mequinox\u001b[39;00m \u001b[38;5;28;01mas\u001b[39;00m \u001b[38;5;21;01meqx\u001b[39;00m\n\u001b[1;32m      3\u001b[0m \u001b[38;5;28;01mfrom\u001b[39;00m \u001b[38;5;21;01mbsde_dsgE\u001b[39;00m \u001b[38;5;28;01mimport\u001b[39;00m KFACPINNSolver, pinn_loss\n\u001b[1;32m      5\u001b[0m key \u001b[38;5;241m=\u001b[39m jax\u001b[38;5;241m.\u001b[39mrandom\u001b[38;5;241m.\u001b[39mPRNGKey(\u001b[38;5;241m0\u001b[39m)\n",
      "File \u001b[0;32m~/anaconda3/envs/Jax/lib/python3.12/site-packages/equinox/__init__.py:3\u001b[0m\n\u001b[1;32m      1\u001b[0m \u001b[38;5;28;01mimport\u001b[39;00m \u001b[38;5;21;01mimportlib\u001b[39;00m\u001b[38;5;21;01m.\u001b[39;00m\u001b[38;5;21;01mmetadata\u001b[39;00m\n\u001b[0;32m----> 3\u001b[0m \u001b[38;5;28;01mfrom\u001b[39;00m \u001b[38;5;21;01m.\u001b[39;00m \u001b[38;5;28;01mimport\u001b[39;00m debug \u001b[38;5;28;01mas\u001b[39;00m debug, internal \u001b[38;5;28;01mas\u001b[39;00m internal, nn \u001b[38;5;28;01mas\u001b[39;00m nn\n\u001b[1;32m      4\u001b[0m \u001b[38;5;28;01mfrom\u001b[39;00m \u001b[38;5;21;01m.\u001b[39;00m\u001b[38;5;21;01m_ad\u001b[39;00m \u001b[38;5;28;01mimport\u001b[39;00m (\n\u001b[1;32m      5\u001b[0m     filter_checkpoint \u001b[38;5;28;01mas\u001b[39;00m filter_checkpoint,\n\u001b[1;32m      6\u001b[0m     filter_closure_convert \u001b[38;5;28;01mas\u001b[39;00m filter_closure_convert,\n\u001b[0;32m   (...)\u001b[0m\n\u001b[1;32m     15\u001b[0m     filter_vjp \u001b[38;5;28;01mas\u001b[39;00m filter_vjp,\n\u001b[1;32m     16\u001b[0m )\n\u001b[1;32m     17\u001b[0m \u001b[38;5;28;01mfrom\u001b[39;00m \u001b[38;5;21;01m.\u001b[39;00m\u001b[38;5;21;01m_better_abstract\u001b[39;00m \u001b[38;5;28;01mimport\u001b[39;00m (\n\u001b[1;32m     18\u001b[0m     AbstractClassVar \u001b[38;5;28;01mas\u001b[39;00m AbstractClassVar,\n\u001b[1;32m     19\u001b[0m     AbstractVar \u001b[38;5;28;01mas\u001b[39;00m AbstractVar,\n\u001b[1;32m     20\u001b[0m )\n",
      "File \u001b[0;32m~/anaconda3/envs/Jax/lib/python3.12/site-packages/equinox/internal/__init__.py:13\u001b[0m\n\u001b[1;32m     10\u001b[0m \u001b[38;5;28;01mfrom\u001b[39;00m \u001b[38;5;21;01m.\u001b[39;00m\u001b[38;5;21;01m.\u001b[39;00m\u001b[38;5;21;01m_doc_utils\u001b[39;00m \u001b[38;5;28;01mimport\u001b[39;00m doc_remove_args \u001b[38;5;28;01mas\u001b[39;00m doc_remove_args, doc_repr \u001b[38;5;28;01mas\u001b[39;00m doc_repr\n\u001b[1;32m     12\u001b[0m \u001b[38;5;66;03m# Backward compatibility: expose via `equinox.internal`. Now available under `equinox`.\u001b[39;00m\n\u001b[0;32m---> 13\u001b[0m \u001b[38;5;28;01mfrom\u001b[39;00m \u001b[38;5;21;01m.\u001b[39;00m\u001b[38;5;21;01m.\u001b[39;00m\u001b[38;5;21;01m_enum\u001b[39;00m \u001b[38;5;28;01mimport\u001b[39;00m Enumeration \u001b[38;5;28;01mas\u001b[39;00m Enumeration\n\u001b[1;32m     15\u001b[0m \u001b[38;5;66;03m# Backward compatibility: expose via `equinox.internal`. Now available under `equinox`.\u001b[39;00m\n\u001b[1;32m     16\u001b[0m \u001b[38;5;28;01mfrom\u001b[39;00m \u001b[38;5;21;01m.\u001b[39;00m\u001b[38;5;21;01m.\u001b[39;00m\u001b[38;5;21;01m_errors\u001b[39;00m \u001b[38;5;28;01mimport\u001b[39;00m (\n\u001b[1;32m     17\u001b[0m     assert_dce \u001b[38;5;28;01mas\u001b[39;00m assert_dce,\n\u001b[1;32m     18\u001b[0m     branched_error_if \u001b[38;5;28;01mas\u001b[39;00m branched_error_if,\n\u001b[1;32m     19\u001b[0m     error_if \u001b[38;5;28;01mas\u001b[39;00m error_if,\n\u001b[1;32m     20\u001b[0m )\n",
      "File \u001b[0;32m~/anaconda3/envs/Jax/lib/python3.12/site-packages/equinox/_enum.py:142\u001b[0m\n\u001b[1;32m    138\u001b[0m     \u001b[38;5;28;01mdef\u001b[39;00m \u001b[38;5;21m__instancecheck__\u001b[39m(\u001b[38;5;28mcls\u001b[39m, value):\n\u001b[1;32m    139\u001b[0m         \u001b[38;5;28;01mreturn\u001b[39;00m \u001b[38;5;28misinstance\u001b[39m(value, EnumerationItem) \u001b[38;5;129;01mand\u001b[39;00m value\u001b[38;5;241m.\u001b[39m_enumeration \u001b[38;5;129;01mis\u001b[39;00m \u001b[38;5;28mcls\u001b[39m\n\u001b[0;32m--> 142\u001b[0m \u001b[38;5;28;43;01mclass\u001b[39;49;00m\u001b[43m \u001b[49m\u001b[38;5;21;43;01mEnumerationItem\u001b[39;49;00m\u001b[43m(\u001b[49m\u001b[43mModule\u001b[49m\u001b[43m)\u001b[49m\u001b[43m:\u001b[49m\n\u001b[1;32m    143\u001b[0m \u001b[43m    \u001b[49m\u001b[43m_value\u001b[49m\u001b[43m:\u001b[49m\u001b[43m \u001b[49m\u001b[43mInt\u001b[49m\u001b[43m[\u001b[49m\u001b[43mArray\u001b[49m\u001b[43m \u001b[49m\u001b[38;5;241;43m|\u001b[39;49m\u001b[43m \u001b[49m\u001b[43mnp\u001b[49m\u001b[38;5;241;43m.\u001b[39;49m\u001b[43mndarray\u001b[49m\u001b[43m[\u001b[49m\u001b[43mAny\u001b[49m\u001b[43m,\u001b[49m\u001b[43m \u001b[49m\u001b[43mnp\u001b[49m\u001b[38;5;241;43m.\u001b[39;49m\u001b[43mdtype\u001b[49m\u001b[43m[\u001b[49m\u001b[43mnp\u001b[49m\u001b[38;5;241;43m.\u001b[39;49m\u001b[43msignedinteger\u001b[49m\u001b[43m]\u001b[49m\u001b[43m]\u001b[49m\u001b[43m,\u001b[49m\u001b[43m \u001b[49m\u001b[38;5;124;43m\"\u001b[39;49m\u001b[38;5;124;43m\"\u001b[39;49m\u001b[43m]\u001b[49m\n\u001b[1;32m    144\u001b[0m \u001b[43m    \u001b[49m\u001b[38;5;66;43;03m# Should have annotation `\"type[Enumeration]\"`, but this fails due to beartype bug\u001b[39;49;00m\n\u001b[1;32m    145\u001b[0m \u001b[43m    \u001b[49m\u001b[38;5;66;43;03m# #289.\u001b[39;49;00m\n",
      "File \u001b[0;32m~/anaconda3/envs/Jax/lib/python3.12/site-packages/equinox/_enum.py:143\u001b[0m, in \u001b[0;36mEnumerationItem\u001b[0;34m()\u001b[0m\n\u001b[1;32m    142\u001b[0m \u001b[38;5;28;01mclass\u001b[39;00m \u001b[38;5;21;01mEnumerationItem\u001b[39;00m(Module):\n\u001b[0;32m--> 143\u001b[0m     _value: \u001b[43mInt\u001b[49m\u001b[43m[\u001b[49m\u001b[43mArray\u001b[49m\u001b[43m \u001b[49m\u001b[38;5;241;43m|\u001b[39;49m\u001b[43m \u001b[49m\u001b[43mnp\u001b[49m\u001b[38;5;241;43m.\u001b[39;49m\u001b[43mndarray\u001b[49m\u001b[43m[\u001b[49m\u001b[43mAny\u001b[49m\u001b[43m,\u001b[49m\u001b[43m \u001b[49m\u001b[43mnp\u001b[49m\u001b[38;5;241;43m.\u001b[39;49m\u001b[43mdtype\u001b[49m\u001b[43m[\u001b[49m\u001b[43mnp\u001b[49m\u001b[38;5;241;43m.\u001b[39;49m\u001b[43msignedinteger\u001b[49m\u001b[43m]\u001b[49m\u001b[43m]\u001b[49m\u001b[43m,\u001b[49m\u001b[43m \u001b[49m\u001b[38;5;124;43m\"\u001b[39;49m\u001b[38;5;124;43m\"\u001b[39;49m\u001b[43m]\u001b[49m\n\u001b[1;32m    144\u001b[0m     \u001b[38;5;66;03m# Should have annotation `\"type[Enumeration]\"`, but this fails due to beartype bug\u001b[39;00m\n\u001b[1;32m    145\u001b[0m     \u001b[38;5;66;03m# #289.\u001b[39;00m\n\u001b[1;32m    146\u001b[0m     _enumeration: Any \u001b[38;5;241m=\u001b[39m field(static\u001b[38;5;241m=\u001b[39m\u001b[38;5;28;01mTrue\u001b[39;00m)\n",
      "File \u001b[0;32m~/anaconda3/envs/Jax/lib/python3.12/site-packages/jaxtyping/_array_types.py:630\u001b[0m, in \u001b[0;36m_MetaAbstractDtype.__getitem__\u001b[0;34m(***failed resolving arguments***)\u001b[0m\n\u001b[1;32m    627\u001b[0m \u001b[38;5;28;01mdel\u001b[39;00m item\n\u001b[1;32m    628\u001b[0m \u001b[38;5;28;01mif\u001b[39;00m typing\u001b[38;5;241m.\u001b[39mget_origin(array_type) \u001b[38;5;129;01min\u001b[39;00m _union_types:\n\u001b[1;32m    629\u001b[0m     out \u001b[38;5;241m=\u001b[39m [\n\u001b[0;32m--> 630\u001b[0m         \u001b[43m_make_array\u001b[49m\u001b[43m(\u001b[49m\u001b[43mx\u001b[49m\u001b[43m,\u001b[49m\u001b[43m \u001b[49m\u001b[43mdim_str\u001b[49m\u001b[43m,\u001b[49m\u001b[43m \u001b[49m\u001b[38;5;28;43mcls\u001b[39;49m\u001b[38;5;241;43m.\u001b[39;49m\u001b[43mdtypes\u001b[49m\u001b[43m,\u001b[49m\u001b[43m \u001b[49m\u001b[38;5;28;43mcls\u001b[39;49m\u001b[38;5;241;43m.\u001b[39;49m\u001b[38;5;18;43m__name__\u001b[39;49m\u001b[43m)\u001b[49m\n\u001b[1;32m    631\u001b[0m         \u001b[38;5;28;01mfor\u001b[39;00m x \u001b[38;5;129;01min\u001b[39;00m typing\u001b[38;5;241m.\u001b[39mget_args(array_type)\n\u001b[1;32m    632\u001b[0m     ]\n\u001b[1;32m    633\u001b[0m     out \u001b[38;5;241m=\u001b[39m \u001b[38;5;28mtuple\u001b[39m(x \u001b[38;5;28;01mfor\u001b[39;00m x \u001b[38;5;129;01min\u001b[39;00m out \u001b[38;5;28;01mif\u001b[39;00m x \u001b[38;5;129;01mis\u001b[39;00m \u001b[38;5;129;01mnot\u001b[39;00m _not_made)\n\u001b[1;32m    634\u001b[0m     \u001b[38;5;28;01mif\u001b[39;00m \u001b[38;5;28mlen\u001b[39m(out) \u001b[38;5;241m==\u001b[39m \u001b[38;5;241m0\u001b[39m:\n",
      "File \u001b[0;32m~/anaconda3/envs/Jax/lib/python3.12/site-packages/jaxtyping/_array_types.py:589\u001b[0m, in \u001b[0;36m_make_array\u001b[0;34m(*args, **kwargs)\u001b[0m\n\u001b[1;32m    587\u001b[0m \u001b[38;5;28;01mif\u001b[39;00m \u001b[38;5;28mtype\u001b[39m(out) \u001b[38;5;129;01mis\u001b[39;00m \u001b[38;5;28mtuple\u001b[39m:\n\u001b[1;32m    588\u001b[0m     array_type, name, dtypes, dims, index_variadic, dim_str \u001b[38;5;241m=\u001b[39m out\n\u001b[0;32m--> 589\u001b[0m     metaclass \u001b[38;5;241m=\u001b[39m \u001b[43m_make_metaclass\u001b[49m\u001b[43m(\u001b[49m\u001b[38;5;28;43mtype\u001b[39;49m\u001b[43m(\u001b[49m\u001b[43marray_type\u001b[49m\u001b[43m)\u001b[49m\u001b[43m)\u001b[49m\n\u001b[1;32m    591\u001b[0m     out \u001b[38;5;241m=\u001b[39m metaclass(\n\u001b[1;32m    592\u001b[0m         name,\n\u001b[1;32m    593\u001b[0m         (array_type, AbstractArray),\n\u001b[0;32m   (...)\u001b[0m\n\u001b[1;32m    600\u001b[0m         ),\n\u001b[1;32m    601\u001b[0m     )\n\u001b[1;32m    602\u001b[0m     \u001b[38;5;28;01mif\u001b[39;00m \u001b[38;5;28mgetattr\u001b[39m(typing, \u001b[38;5;124m\"\u001b[39m\u001b[38;5;124mGENERATING_DOCUMENTATION\u001b[39m\u001b[38;5;124m\"\u001b[39m, \u001b[38;5;28;01mFalse\u001b[39;00m):\n",
      "File \u001b[0;32m~/anaconda3/envs/Jax/lib/python3.12/site-packages/jaxtyping/_array_types.py:310\u001b[0m, in \u001b[0;36m_make_metaclass\u001b[0;34m(base_metaclass)\u001b[0m\n\u001b[1;32m    308\u001b[0m \u001b[38;5;129m@ft\u001b[39m\u001b[38;5;241m.\u001b[39mlru_cache(maxsize\u001b[38;5;241m=\u001b[39m\u001b[38;5;28;01mNone\u001b[39;00m)\n\u001b[1;32m    309\u001b[0m \u001b[38;5;28;01mdef\u001b[39;00m \u001b[38;5;21m_make_metaclass\u001b[39m(base_metaclass):\n\u001b[0;32m--> 310\u001b[0m \u001b[43m    \u001b[49m\u001b[38;5;28;43;01mclass\u001b[39;49;00m\u001b[43m \u001b[49m\u001b[38;5;21;43;01mMetaAbstractArray\u001b[39;49;00m\u001b[43m(\u001b[49m\u001b[43m_MetaAbstractArray\u001b[49m\u001b[43m,\u001b[49m\u001b[43m \u001b[49m\u001b[43mbase_metaclass\u001b[49m\u001b[43m)\u001b[49m\u001b[43m:\u001b[49m\n\u001b[1;32m    311\u001b[0m \u001b[43m        \u001b[49m\u001b[38;5;28;43;01mdef\u001b[39;49;00m\u001b[43m \u001b[49m\u001b[38;5;21;43m_get_props\u001b[39;49m\u001b[43m(\u001b[49m\u001b[38;5;28;43mcls\u001b[39;49m\u001b[43m)\u001b[49m\u001b[43m:\u001b[49m\n\u001b[1;32m    312\u001b[0m \u001b[43m            \u001b[49m\u001b[43mprops_tuple\u001b[49m\u001b[43m \u001b[49m\u001b[38;5;241;43m=\u001b[39;49m\u001b[43m \u001b[49m\u001b[43m(\u001b[49m\n\u001b[1;32m    313\u001b[0m \u001b[43m                \u001b[49m\u001b[38;5;28;43mcls\u001b[39;49m\u001b[38;5;241;43m.\u001b[39;49m\u001b[43mindex_variadic\u001b[49m\u001b[43m,\u001b[49m\n\u001b[1;32m    314\u001b[0m \u001b[43m                \u001b[49m\u001b[38;5;28;43mcls\u001b[39;49m\u001b[38;5;241;43m.\u001b[39;49m\u001b[43mdims\u001b[49m\u001b[43m,\u001b[49m\n\u001b[0;32m   (...)\u001b[0m\n\u001b[1;32m    317\u001b[0m \u001b[43m                \u001b[49m\u001b[38;5;28;43mcls\u001b[39;49m\u001b[38;5;241;43m.\u001b[39;49m\u001b[43mdim_str\u001b[49m\u001b[43m,\u001b[49m\n\u001b[1;32m    318\u001b[0m \u001b[43m            \u001b[49m\u001b[43m)\u001b[49m\n",
      "\u001b[0;31mTypeError\u001b[0m: multiple bases have instance lay-out conflict"
     ]
    }
   ],
   "source": [
    "import jax, jax.numpy as jnp\n",
    "import equinox as eqx\n",
    "from bsde_dsgE import KFACPINNSolver, pinn_loss\n",
    "\n",
    "key = jax.random.PRNGKey(0)\n",
    "net = eqx.nn.MLP(in_size=1, out_size=1, width_size=8, depth=2, key=key)\n",
    "\n",
    "def loss_fn(net, x):\n",
    "    bc = jnp.array([0.0, 1.0])\n",
    "    return pinn_loss(lambda y: net(y), x, bc)\n",
    "\n",
    "solver = KFACPINNSolver(net=net, loss_fn=loss_fn, lr=1e-2, num_steps=5)\n",
    "data = jnp.linspace(0.0, 1.0, 16)[:, None]\n",
    "losses = solver.run(data, key)\n",
    "print(losses)\n"
   ]
  },
  {
   "cell_type": "code",
   "execution_count": null,
   "id": "8d425776",
   "metadata": {},
   "outputs": [],
   "source": []
  }
 ],
 "metadata": {
  "kernelspec": {
   "display_name": "Jax",
   "language": "python",
   "name": "python3"
  },
  "language_info": {
   "codemirror_mode": {
    "name": "ipython",
    "version": 3
   },
   "file_extension": ".py",
   "mimetype": "text/x-python",
   "name": "python",
   "nbconvert_exporter": "python",
   "pygments_lexer": "ipython3",
   "version": "3.12.4"
  }
 },
 "nbformat": 4,
 "nbformat_minor": 5
}
