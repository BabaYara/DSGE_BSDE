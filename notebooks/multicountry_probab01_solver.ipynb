{
 "cells": [
  {
   "cell_type": "markdown",
   "metadata": {},
   "source": [
    "# Multicountry Deep Solver — Probab_01 (Table 1)\n",
    "\n",
    "Implements the Try.md idea using the library: a small Equinox network that outputs per-country prices `q`, volatility matrix `\\sigma_q`, and `r`, evaluated at symmetric states to reproduce Table 1 displays.\n",
    "\n",
    "This notebook focuses on evaluation hooks and comparison; full training can be added following Try.md if desired."
   ]
  },
  {
   "cell_type": "code",
   "execution_count": null,
   "metadata": {},
   "outputs": [],
   "source": [
    "import json, os\n",
    "import numpy as np\n",
    "import jax, jax.numpy as jnp\n",
    "import matplotlib.pyplot as plt\n",
    "from pathlib import Path\n",
    "from bsde_dsgE.models.macro_solver import Config, MacroFinanceNet, evaluate_symmetric\n",
    "\n",
    "print({'jax': jax.__version__, 'device': jax.default_backend()})\n",
    "calib_path = Path('data/probab01_table1.json')\n",
    "calib = json.loads(calib_path.read_text()) if calib_path.exists() else {}\n",
    "paper_vals = calib.get('table1_values', {})\n"
   ]
  },
  {
   "cell_type": "markdown",
   "metadata": {},
   "source": [
    "## Network and symmetric states"
   ]
  },
  {
   "cell_type": "code",
   "execution_count": null,
   "metadata": {},
   "outputs": [],
   "source": [
    "cfg = Config(J=5)\n",
    "net = MacroFinanceNet(cfg, jax.random.PRNGKey(0))\n",
    "etas = (0.3, 0.4, 0.5, 0.6, 0.7)\n",
    "q, sigma_q, r = evaluate_symmetric(cfg, net, etas)\n",
    "q = np.array(q); sigma_q = np.array(sigma_q); r = np.array(r)\n",
    "q.shape, sigma_q.shape, r.shape\n"
   ]
  },
  {
   "cell_type": "markdown",
   "metadata": {},
   "source": [
    "## Display Table 1-style blocks"
   ]
  },
  {
   "cell_type": "code",
   "execution_count": null,
   "metadata": {},
   "outputs": [],
   "source": [
    "for i, eta in enumerate(etas):\n",
    "    print(f'\\nState: eta={eta:.1f}, zeta=1/J')\n",
    "    print('q^i (untrained net):', np.array2string(q[i], formatter={'float_kind':lambda x: f"{x:8.4f}"}))\n",
    "    fig, ax = plt.subplots(figsize=(3.6,3.2))\n",
    "    im = ax.imshow(sigma_q[i], cmap='coolwarm'); fig.colorbar(im, ax=ax)\n",
    "    ax.set_title('sigma_{q,i,j}'); ax.set_xlabel('j'); ax.set_ylabel('i')\n",
    "    fig.tight_layout(); plt.show()\n"
   ]
  },
  {
   "cell_type": "markdown",
   "metadata": {},
   "source": [
    "## Compare to transcribed paper values (if present)\n",
    "\n",
    "We print simple errors for `q` against the transcribed values in `data/probab01_table1.json`. Note that without training, these will not match; after training, they should approach the paper."
   ]
  },
  {
   "cell_type": "code",
   "execution_count": null,
   "metadata": {},
   "outputs": [],
   "source": [
    "sym = paper_vals.get('symmetric_states', [])\n",
    "if sym:\n",
    "    for i, st in enumerate(sym):\n",
    "        if i >= len(etas) or abs(st['eta'] - etas[i]) > 1e-8:\n",
    "            continue\n",
    "        q_tgt = np.array(st['q'])\n",
    "        err = np.mean(np.abs(q[i] - q_tgt))\n",
    "        print(f"eta={st['eta']:.1f}: mean |q_pred - q_tgt| = {err:.4f}")\n",
    "else:\n",
    "    print('No transcribed Table 1 values found in calibration file.')\n"
   ]
  },
  {
   "cell_type": "markdown",
   "metadata": {},
   "source": [
    "## Strict check (optional)"
   ]
  },
  {
   "cell_type": "code",
   "execution_count": null,
   "metadata": {},
   "outputs": [],
   "source": [
    "import os\n",
    "if os.environ.get('STRICT_TABLE1', '') and sym:\n",
    "    tol = float(os.environ.get('TABLE1_Q_TOL', '1e-2'))\n",
    "    errs = []\n",
    "    for i, st in enumerate(sym):\n",
    "        q_tgt = np.array(st['q'], dtype=float)\n",
    "        errs.append(float(np.mean(np.abs(q[i] - q_tgt))))\n",
    "    avg_err = float(np.mean(errs))\n",
    "    assert avg_err <= tol, f'avg |q_pred - q_tgt|={avg_err:.4e} > tol={tol}'\n",
    "    print({'avg_err': avg_err, 'tol': tol})\n"
   ]
  },
  {
   "cell_type": "markdown",
   "metadata": {},
   "source": [
    "## Notes\n",
    "- The network enforces diag(\\sigma_q)>0 and off-diagonals<0 by construction.\n",
    "- To train, follow the full loop in Try.md (optax + scan) and then rerun evaluation here to compare with Table 1 entries.\n",
    "- For reproducibility, set `NOTEBOOK_FAST=1` for small demos; unset for larger runs."
   ]
  },
  {
   "cell_type": "markdown",
   "metadata": {},
   "source": [
    "## Analytic symmetric-state check\n",
    "We compare the network’s q at symmetric states against the analytic formula q = (a·ψ + 1)/(ρ·ψ + 1) using calibration parameters if present."
   ]
  },
  {
   "cell_type": "code",
   "execution_count": null,
   "metadata": {},
   "outputs": [],
   "source": [
    "from bsde_dsgE.models.probab01_equations import q_symmetric_analytic\n",
    "params = calib.get('probab01_params', {'a': 0.1, 'psi': 5.0, 'rho': 0.03})\n",
    "q_analytic = q_symmetric_analytic(float(params['a']), float(params['psi']), float(params['rho']))\n",
    "print({'q_analytic': q_analytic})\n",
   "print('q_pred avg per eta row:', [float(np.mean(q[i])) for i in range(len(etas))])\n"
  ]
  },
  {
   "cell_type": "markdown",
   "metadata": {},
   "source": [
    "## Compare to values parsed directly from LaTeX\n",
    "We parse the 'Symmetric State' table in `Tex/Model.tex` and compare to the JSON file for consistency."
   ]
  },
  {
   "cell_type": "code",
   "execution_count": null,
   "metadata": {},
   "outputs": [],
   "source": [
    "from bsde_dsgE.utils.tex_extract import extract_symmetric_states\n",
    "tex_states = extract_symmetric_states('Tex/Model.tex')\n",
    "tex_states[0]['q'], np.array(tex_states[0]['sigma_q']).shape\n"
   ]
  },
  {
   "cell_type": "markdown",
   "metadata": {},
   "source": [
    "## Training quickstart\n",
    "For a short demo training loop, run the CLI below (adjust epochs/paths for your machine), then rerun evaluation cells to compare `q` and `\\sigma_q` blocks:\n",
    "\n",
    "```
python scripts/train_macro_solver.py --epochs 200 --paths 1024 --dt 0.001 --steps 0 --eval-symmetric
```"
   ]
  },
  {
   "cell_type": "code",
   "execution_count": null,
   "metadata": {},
   "outputs": [],
   "source": [
    "cmd = 'python scripts/train_macro_solver.py --epochs 200 --paths 1024 --dt 0.001 --steps 0 --eval-symmetric'\n",
    "print(cmd)\n"
   ]
  }
 ],
 "metadata": {
  "kernelspec": {
   "display_name": "Python 3",
   "language": "python",
   "name": "python3"
  },
  "language_info": {
   "name": "python",
   "version": "3.11"
  }
 },
 "nbformat": 4,
 "nbformat_minor": 5
}
