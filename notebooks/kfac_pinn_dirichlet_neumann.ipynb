{
 "cells": [
  {
   "cell_type": "markdown",
   "id": "7e83ed9a",
   "metadata": {},
   "source": [
    "# Mixed Boundary Poisson Example\n",
    "Demonstrate KFACPINNSolver on a 1D Poisson equation with Dirichlet and Neumann boundaries."
   ]
  },
  {
   "cell_type": "markdown",
   "id": "196de1f0",
   "metadata": {},
   "source": [
    "## Step-by-step\n",
    "1. Create a network with Equinox.\n",
    "2. Define a loss using both boundary conditions.\n",
    "3. Instantiate `KFACPINNSolver`.\n",
    "4. Train and print the final loss."
   ]
  },
  {
   "cell_type": "code",
   "execution_count": 1,
   "id": "e360c3f7",
   "metadata": {
    "execution": {
     "iopub.execute_input": "2025-06-22T11:35:25.081252Z",
     "iopub.status.busy": "2025-06-22T11:35:25.080739Z",
     "iopub.status.idle": "2025-06-22T11:35:26.441832Z",
     "shell.execute_reply": "2025-06-22T11:35:26.441221Z"
    }
   },
   "outputs": [
    {
     "name": "stdout",
     "output_type": "stream",
     "text": [
      "final loss 1.296364665031433\n"
     ]
    }
   ],
   "source": [
    "import jax, jax.numpy as jnp\n",
    "import equinox as eqx\n",
    "from bsde_dsgE.kfac import KFACPINNSolver, poisson_1d_residual\n",
    "\n",
    "net = eqx.nn.MLP(in_size=1, out_size=1, width_size=16, depth=2, key=jax.random.PRNGKey(0))\n",
    "net_scalar = lambda z: net(jnp.atleast_1d(z))[0]\n",
    "\n",
    "def loss_fn(net, x):\n",
    "    interior = x\n",
    "    dir_x = jnp.array([0.0])\n",
    "    neu_x = jnp.array([1.0])\n",
    "    res = poisson_1d_residual(net_scalar, interior)\n",
    "    dir_res = poisson_1d_residual(net_scalar, dir_x, dirichlet_bc=lambda z: 0.0)\n",
    "    neu_res = poisson_1d_residual(net_scalar, neu_x, neumann_bc=lambda z: 1.0)\n",
    "    return jnp.mean(res**2) + jnp.mean(dir_res**2) + jnp.mean(neu_res**2)\n",
    "\n",
    "solver = KFACPINNSolver(net=net, loss_fn=loss_fn, lr=1e-2, num_steps=5)\n",
    "xs = jnp.linspace(0.0, 1.0, 8)\n",
    "losses = solver.run(xs, jax.random.PRNGKey(1))\n",
    "print('final loss', float(losses[-1]))"
   ]
  }
 ],
 "metadata": {
  "kernelspec": {
   "display_name": "Python 3",
   "language": "python",
   "name": "python3"
  },
  "language_info": {
   "codemirror_mode": {
    "name": "ipython",
    "version": 3
   },
   "file_extension": ".py",
   "mimetype": "text/x-python",
   "name": "python",
   "nbconvert_exporter": "python",
   "pygments_lexer": "ipython3",
   "version": "3.12.10"
  }
 },
 "nbformat": 4,
 "nbformat_minor": 5
}
