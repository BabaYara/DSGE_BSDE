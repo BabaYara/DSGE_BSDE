{
 "cells": [
  {
   "cell_type": "markdown",
   "metadata": {},
   "source": [
    "# Poisson equation with KFAC-PINN"
   ]
  },
  {
   "cell_type": "code",
   "execution_count": null,
   "metadata": {},
   "outputs": [],
   "source": [
    "import jax, jax.numpy as jnp",
    "from kfac_pinn.networks import init_mlp, mlp_apply",
    "from kfac_pinn.training import train_pinn",
    "from kfac_pinn.pde import poisson_residual",
    "key = jax.random.PRNGKey(0)",
    "x = jnp.linspace(0, 1, 32)",
    "layers = [1, 16, 16, 1]",
    "params, losses = train_pinn(layers, poisson_residual, x, steps=10, key=key)",
    "print('Final loss', losses[-1])"
   ]
  }
 ],
 "metadata": {
  "kernelspec": {
   "display_name": "Python 3",
   "language": "python",
   "name": "python3"
  },
  "language_info": {
   "name": "python",
   "version": "3.11"
  }
 },
 "nbformat": 4,
 "nbformat_minor": 5
}
