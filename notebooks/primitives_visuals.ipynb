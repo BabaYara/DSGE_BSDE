{
 "cells": [
  {
   "cell_type": "markdown",
   "metadata": {},
   "source": [
    "# Primitives: Figures and Animations\n",
    "\n",
    "Visual diagnostics for core primitives: Sobol Brownian vs Gaussian, and\n",
    "bisection root convergence."
   ]
  },
  {
   "cell_type": "code",
   "execution_count": 5,
   "metadata": {},
   "outputs": [
    {
     "name": "stdout",
     "output_type": "stream",
     "text": [
      "Style setup skipped: 'grid.major.color is not a valid rc parameter (see rcParams.keys() for a list of valid parameters)'\n"
     ]
    }
   ],
   "source": [
    "# Visual style for figures (accessible color cycle, high-DPI)\n",
    "try:\n",
    "    from bsde_dsgE.utils.nb_style import apply_notebook_style\n",
    "    apply_notebook_style()\n",
    "except Exception as e:\n",
    "    print('Style setup skipped:', e)\n"
   ]
  },
  {
   "cell_type": "code",
   "execution_count": 6,
   "id": "ddcf97df",
   "metadata": {},
   "outputs": [
    {
     "name": "stdout",
     "output_type": "stream",
     "text": [
      "bsde_dsgE import OK from: C:\\Users\\fababa\\Dropbox\\AssetPricing\\DSGE_BSDE\\DSGE_BSDE\\bsde_dsgE\n"
     ]
    }
   ],
   "source": [
    "# Ensure project root is on sys.path so `bsde_dsgE` (one level up) can be imported\n",
    "import sys\n",
    "from pathlib import Path\n",
    "\n",
    "pkg_name = \"bsde_dsgE\"\n",
    "nb_cwd = Path.cwd().resolve()\n",
    "\n",
    "# Walk up to find the folder that directly contains the package directory\n",
    "repo_root = None\n",
    "for p in [nb_cwd, *nb_cwd.parents]:\n",
    "    if (p / pkg_name).is_dir():\n",
    "        repo_root = p\n",
    "        break\n",
    "\n",
    "if repo_root is not None and str(repo_root) not in sys.path:\n",
    "    sys.path.insert(0, str(repo_root))\n",
    "\n",
    "# Verify import and show where it's coming from\n",
    "try:\n",
    "    import bsde_dsgE  # noqa: F401\n",
    "    print(f\"bsde_dsgE import OK from: {(Path(bsde_dsgE.__file__).parent)}\")\n",
    "except Exception as e:\n",
    "    print(\"Could not import bsde_dsgE by path bootstrap. If this persists, install the project in editable mode from the repo root:\")\n",
    "    print(\"pip install -e .\")\n",
    "    raise"
   ]
  },
  {
   "cell_type": "markdown",
   "metadata": {},
   "source": [
    "## Rolling Increments Histogram (Animation)\n",
    "\n",
    "Animate the histogram of Brownian increments over time steps for Sobol vs Gaussian to visualise distribution stability."
   ]
  },
  {
   "cell_type": "code",
   "execution_count": 7,
   "metadata": {
    "tags": [
     "hide-output"
    ]
   },
   "outputs": [
    {
     "ename": "NameError",
     "evalue": "name 'plt' is not defined",
     "output_type": "error",
     "traceback": [
      "\u001b[31m---------------------------------------------------------------------------\u001b[39m",
      "\u001b[31mNameError\u001b[39m                                 Traceback (most recent call last)",
      "\u001b[36mCell\u001b[39m\u001b[36m \u001b[39m\u001b[32mIn[7]\u001b[39m\u001b[32m, line 2\u001b[39m\n\u001b[32m      1\u001b[39m \u001b[38;5;28;01mfrom\u001b[39;00m\u001b[38;5;250m \u001b[39m\u001b[34;01mmatplotlib\u001b[39;00m\u001b[38;5;250m \u001b[39m\u001b[38;5;28;01mimport\u001b[39;00m animation\n\u001b[32m----> \u001b[39m\u001b[32m2\u001b[39m figA, (axS, axG) = \u001b[43mplt\u001b[49m.subplots(\u001b[32m1\u001b[39m,\u001b[32m2\u001b[39m, figsize=(\u001b[32m8\u001b[39m,\u001b[32m3\u001b[39m), sharey=\u001b[38;5;28;01mTrue\u001b[39;00m)\n\u001b[32m      3\u001b[39m axS.set_title(\u001b[33m'\u001b[39m\u001b[33mSobol increments\u001b[39m\u001b[33m'\u001b[39m); axG.set_title(\u001b[33m'\u001b[39m\u001b[33mGaussian increments\u001b[39m\u001b[33m'\u001b[39m)\n\u001b[32m      4\u001b[39m bins = np.linspace(-\u001b[32m3\u001b[39m*np.sqrt(dt), \u001b[32m3\u001b[39m*np.sqrt(dt), \u001b[32m30\u001b[39m)\n",
      "\u001b[31mNameError\u001b[39m: name 'plt' is not defined"
     ]
    }
   ],
   "source": [
    "from matplotlib import animation\n",
    "figA, (axS, axG) = plt.subplots(1,2, figsize=(8,3), sharey=True)\n",
    "axS.set_title('Sobol increments'); axG.set_title('Gaussian increments')\n",
    "bins = np.linspace(-3*np.sqrt(dt), 3*np.sqrt(dt), 30)\n",
    "def init_hist():\n",
    "    axS.cla(); axG.cla()\n",
    "    return []\n",
    "def animate_hist(i):\n",
    "    axS.cla(); axG.cla()\n",
    "    axS.hist(np.array(sob[:, i, 0]), bins=bins, alpha=0.8, color='tab:blue')\n",
    "    axG.hist(np.array(gauss[:, i]), bins=bins, alpha=0.8, color='tab:orange')\n",
    "    axS.set_ylim(0, max(axS.get_ylim()[1], axG.get_ylim()[1]))\n",
    "    axS.set_title(f'Sobol increments step {i+1}')\n",
    "    axG.set_title(f'Gaussian increments step {i+1}')\n",
    "    return []\n",
    "ani_hist = animation.FuncAnimation(figA, animate_hist, init_func=init_hist, frames=min(steps, 50), interval=150, blit=False)\n",
    "ani_hist.to_jshtml()\n"
   ]
  },
  {
   "cell_type": "code",
   "execution_count": null,
   "metadata": {},
   "outputs": [],
   "source": [
    "import numpy as np\n",
    "import jax, jax.numpy as jnp\n",
    "import matplotlib.pyplot as plt\n",
    "from bsde_dsgE.utils.sde_tools import sobol_brownian\n",
    "from bsde_dsgE.core.outer_loop import pareto_bisection\n",
    "FAST = bool(__import__('os').environ.get('NOTEBOOK_FAST', ''))\n"
   ]
  },
  {
   "cell_type": "markdown",
   "metadata": {},
   "source": [
    "## Sobol Brownian vs Gaussian"
   ]
  },
  {
   "cell_type": "code",
   "execution_count": null,
   "metadata": {},
   "outputs": [],
   "source": [
    "steps = 64 if FAST else 256\n",
    "batch = 32 if FAST else 256\n",
    "dt = 1.0 / steps\n",
    "sob = sobol_brownian(dim=1, steps=steps, batch=batch, dt=dt)[...,0]\n",
    "gauss = jax.random.normal(jax.random.PRNGKey(0), (batch, steps)) * np.sqrt(dt)\n",
    "sob_path = np.cumsum(np.array(sob[0]))\n",
    "gauss_path = np.cumsum(np.array(gauss[0]))\n",
    "fig, ax = plt.subplots(1,3, figsize=(14,3))\n",
    "ax[0].plot(sob_path); ax[0].set_title('Sobol Brownian (1 path)')\n",
    "ax[1].plot(gauss_path); ax[1].set_title('Gaussian Brownian (1 path)')\n",
    "# Histogram of increments comparison\n",
    "ax[2].hist(np.array(sob).ravel(), bins=30, alpha=0.6, label='Sobol')\n",
    "ax[2].hist(np.array(gauss).ravel(), bins=30, alpha=0.6, label='Gaussian')\n",
    "ax[2].legend(); ax[2].set_title('Increments histogram')\n",
    "fig.tight_layout(); fig\n"
   ]
  },
  {
   "cell_type": "markdown",
   "metadata": {},
   "source": [
    "## Bisection Convergence Animation"
   ]
  },
  {
   "cell_type": "code",
   "execution_count": null,
   "metadata": {
    "tags": [
     "hide-output"
    ]
   },
   "outputs": [],
   "source": [
    "import matplotlib.animation as animation\n",
    "\n",
    "def f(a): return a - 0.3  # root at 0.3\n",
    "lo, hi = 0.0, 1.0\n",
    "frames = []\n",
    "for _ in range(20):\n",
    "    mid = 0.5*(lo+hi)\n",
    "    frames.append((lo, hi, mid))\n",
    "    if f(mid) > 0: hi = mid\n",
    "    else: lo = mid\n",
    "\n",
    "fig2, ax2 = plt.subplots(figsize=(5,3))\n",
    "ax2.set_xlim(0,1); ax2.set_ylim(-0.1, 1.1)\n",
    "line, = ax2.plot([], [], 'k-')\n",
    "lo_pt, = ax2.plot([], [], 'ro'); hi_pt, = ax2.plot([], [], 'bo'); mid_pt, = ax2.plot([], [], 'go')\n",
    "ax2.plot([0,1], [f(0), f(1)], alpha=0.0)  # fix axes\n",
    "\n",
    "def init():\n",
    "    line.set_data([], [])\n",
    "    lo_pt.set_data([], [])\n",
    "    hi_pt.set_data([], [])\n",
    "    mid_pt.set_data([], [])\n",
    "    return line, lo_pt, hi_pt, mid_pt\n",
    "\n",
    "def animate(i):\n",
    "    lo, hi, mid = frames[i]\n",
    "    xs = np.linspace(lo, hi, 100)\n",
    "    ys = xs - 0.3\n",
    "    line.set_data(xs, ys)\n",
    "    lo_pt.set_data([lo], [f(lo)])\n",
    "    hi_pt.set_data([hi], [f(hi)])\n",
    "    mid_pt.set_data([mid], [f(mid)])\n",
    "    return line, lo_pt, hi_pt, mid_pt\n",
    "\n",
    "ani = animation.FuncAnimation(fig2, animate, init_func=init, frames=len(frames), interval=200, blit=True)\n",
    "ani.to_jshtml()\n"
   ]
  },
  {
   "cell_type": "markdown",
   "metadata": {},
   "source": [
    "## Variance growth and antithetic pairing\n",
    "\n",
    "We confirm that var(B_t) ≈ t and show the effect of antithetic pairing (Sobol generator uses pairing)."
   ]
  },
  {
   "cell_type": "code",
   "execution_count": null,
   "metadata": {},
   "outputs": [],
   "source": [
    "times = np.arange(1, steps+1) * dt\n",
    "sob_paths = np.cumsum(np.array(sob), axis=1)\n",
    "gauss_paths = np.cumsum(np.array(gauss), axis=1)\n",
    "sob_var = sob_paths.var(axis=0)\n",
    "gauss_var = gauss_paths.var(axis=0)\n",
    "fig3, ax3 = plt.subplots(figsize=(6,3))\n",
    "ax3.plot(times, sob_var, label='Sobol var')\n",
    "ax3.plot(times, gauss_var, label='Gaussian var')\n",
    "ax3.plot(times, times, 'k--', alpha=0.5, label='t')\n",
    "ax3.legend(); ax3.set_title('Variance growth vs time'); ax3.set_xlabel('t'); ax3.set_ylabel('var')\n",
    "fig3.tight_layout(); fig3\n"
   ]
  },
  {
   "cell_type": "markdown",
   "metadata": {},
   "source": [
    "## ResNetND Feature Maps\n",
    "\n",
    "Visualise outputs of a small `ResNetND` over a 2D input grid. We plot the scalar head `y(x)` and the two `z` components."
   ]
  },
  {
   "cell_type": "code",
   "execution_count": null,
   "metadata": {},
   "outputs": [],
   "source": [
    "import numpy as np\n",
    "import jax, jax.numpy as jnp\n",
    "from bsde_dsgE.core.nets import ResNetND\n",
    "net2 = ResNetND.make(dim=2, depth=2, width=16, key=jax.random.PRNGKey(0))\n",
    "# Build a grid in R^2\n",
    "g = np.linspace(-1.5, 1.5, 60)\n",
    "X1, X2 = np.meshgrid(g, g)\n",
    "grid = jnp.stack([jnp.array(X1).ravel(), jnp.array(X2).ravel()], axis=1)\n",
    "y, z = net2(jnp.zeros((grid.shape[0],)), grid)\n",
    "Y = np.array(y).reshape(X1.shape)\n",
    "Z1 = np.array(z[:,0]).reshape(X1.shape)\n",
    "Z2 = np.array(z[:,1]).reshape(X1.shape)\n",
    "fig4, ax4 = plt.subplots(1,3, figsize=(12,3), constrained_layout=True)\n",
    "# Feature maps: use perceptually uniform cmaps; diverging for signed fields\n",
    "extent = [g.min(), g.max(), g.min(), g.max()]\n",
    "im0 = ax4[0].imshow(Y, extent=extent, origin='lower', aspect='equal', cmap='viridis'); ax4[0].set_title('y(x)')\n",
    "m1 = float(np.max(np.abs(Z1))) if Z1.size else 1.0\n",
    "m2 = float(np.max(np.abs(Z2))) if Z2.size else 1.0\n",
    "im1 = ax4[1].imshow(Z1, extent=extent, origin='lower', aspect='equal', cmap='coolwarm', vmin=-m1, vmax=m1); ax4[1].set_title('z1(x)')\n",
    "im2 = ax4[2].imshow(Z2, extent=extent, origin='lower', aspect='equal', cmap='coolwarm', vmin=-m2, vmax=m2); ax4[2].set_title('z2(x)')\n",
    "c0 = fig4.colorbar(im0, ax=ax4[0]); c0.set_label('y')\n",
    "c1 = fig4.colorbar(im1, ax=ax4[1]); c1.set_label('z1')\n",
    "c2 = fig4.colorbar(im2, ax=ax4[2]); c2.set_label('z2')\n",
    "fig4\n"
   ]
  },
  {
   "cell_type": "markdown",
   "metadata": {},
   "source": [
    "## Antithetic Pairing Demo (Sobol Brownian)\n",
    "\n",
    "Sobol generator uses antithetic pairing. We verify path pairs are negatives (correlation ≈ −1) and visualise one pair."
   ]
  },
  {
   "cell_type": "code",
   "execution_count": null,
   "metadata": {},
   "outputs": [],
   "source": [
    "pair_a = np.array(sob[0]).ravel()\n",
    "pair_b = np.array(sob[batch//2]).ravel()\n",
    "corr = np.corrcoef(pair_a, pair_b)[0,1]\n",
    "print({'pair_corr': float(corr)})\n",
    "# Show one paired path vs its antithetic\n",
    "pa = np.cumsum(np.array(sob[0,:,0]))\n",
    "pb = np.cumsum(np.array(sob[batch//2,:,0]))\n",
    "figP, axP = plt.subplots(figsize=(5,3))\n",
    "axP.plot(pa, label='path A'); axP.plot(pb, label='path B (anti)')\n",
    "axP.legend(); axP.set_title('Antithetic path pair (Sobol)'); figP.tight_layout(); figP\n"
   ]
  },
  {
   "cell_type": "markdown",
   "metadata": {},
   "source": [
    "## QQ Plot of Increments (Sobol vs Gaussian)\n",
    "\n",
    "Compare empirical increment distributions to Normal(0, dt) via QQ plots."
   ]
  },
  {
   "cell_type": "code",
   "execution_count": null,
   "metadata": {},
   "outputs": [],
   "source": [
    "from bsde_dsgE.utils.figures import qq_points\n",
    "qS, eS = qq_points(np.array(sob).ravel())\n",
    "qG, eG = qq_points(np.array(gauss).ravel())\n",
    "figQ, axQ = plt.subplots(1,2, figsize=(10,4), sharex=True, sharey=True)\n",
    "axQ[0].plot(qS, eS, '.', alpha=0.5); axQ[0].plot(qS, qS, 'k--', lw=1)\n",
    "axQ[0].set_title('Sobol increments QQ')\n",
    "axQ[1].plot(qG, eG, '.', alpha=0.5); axQ[1].plot(qG, qG, 'k--', lw=1)\n",
    "axQ[1].set_title('Gaussian increments QQ')\n",
    "for ax in axQ: ax.set_xlabel('Theoretical'); ax.set_ylabel('Empirical'); ax.set_aspect('equal', adjustable='box')\n",
    "figQ.tight_layout(); figQ\n"
   ]
  },
  {
   "cell_type": "markdown",
   "metadata": {},
   "source": [
    "## Lagged Autocorrelation of Increments\n",
    "\n",
    "Autocorrelation at lag 1 should be near 0 for independent increments (Gaussian and Sobol)."
   ]
  },
  {
   "cell_type": "code",
   "execution_count": null,
   "metadata": {},
   "outputs": [],
   "source": [
    "from bsde_dsgE.utils.figures import lag_autocorr\n",
    "sob_inc = np.array(sob)[..., None]  # (B, S) -> (B,S,1)\n",
    "sob_inc = np.transpose(sob_inc, (1,0,2))  # (S,B,1)\n",
    "gauss_inc = np.array(gauss)[..., None]  # (B,S)->(B,S,1)\n",
    "gauss_inc = np.transpose(gauss_inc, (1,0,2))\n",
    "ac_s = lag_autocorr(sob_inc, lag=1)[0]\n",
    "ac_g = lag_autocorr(gauss_inc, lag=1)[0]\n",
    "print({'lag1_autocorr_sobol': float(ac_s), 'lag1_autocorr_gaussian': float(ac_g)})\n",
    "figAC, axAC = plt.subplots(figsize=(5,3))\n",
    "labels = ['Sobol','Gaussian']; vals = [float(ac_s), float(ac_g)]\n",
    "bars = axAC.bar(labels, vals, color=['tab:blue','tab:orange'])\n",
    "axAC.axhline(0, color='k', lw=1); axAC.set_ylim(-0.2, 0.2)\n",
    "for i, b in enumerate(bars):\n",
    "    y = b.get_height(); axAC.annotate(f'{vals[i]:+.3f}',\n",
    "        xy=(b.get_x()+b.get_width()/2, y), xytext=(0, 4), textcoords='offset points',\n",
    "        ha='center', va='bottom', fontsize=9)\n",
    "axAC.set_title('Lag-1 autocorrelation of increments'); figAC.tight_layout(); figAC\n"
   ]
  }
 ],
 "metadata": {
  "kernelspec": {
   "display_name": "Python 3",
   "language": "python",
   "name": "python3"
  },
  "language_info": {
   "codemirror_mode": {
    "name": "ipython",
    "version": 3
   },
   "file_extension": ".py",
   "mimetype": "text/x-python",
   "name": "python",
   "nbconvert_exporter": "python",
   "pygments_lexer": "ipython3",
   "version": "3.13.5"
  }
 },
 "nbformat": 4,
 "nbformat_minor": 5
}
