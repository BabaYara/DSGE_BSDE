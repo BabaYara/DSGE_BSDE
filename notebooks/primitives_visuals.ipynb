{
 "cells": [
  {
   "cell_type": "markdown",
   "metadata": {},
   "source": [
    "# Primitives: Figures and Animations\n",
    "\n",
    "Visual diagnostics for core primitives: Sobol Brownian vs Gaussian, and\n",
    "bisection root convergence."
   ]
  },
  {
   "cell_type": "markdown",
   "metadata": {},
   "source": [
    "## Rolling Increments Histogram (Animation)\n",
    "\n",
    "Animate the histogram of Brownian increments over time steps for Sobol vs Gaussian to visualise distribution stability."
   ]
  },
  {
   "cell_type": "code",
   "execution_count": null,
   "metadata": {
    "tags": [
     "hide-output"
    ]
   },
   "outputs": [],
   "source": [
    "from matplotlib import animation\n",
    "figA, (axS, axG) = plt.subplots(1,2, figsize=(8,3), sharey=True)\n",
    "axS.set_title('Sobol increments'); axG.set_title('Gaussian increments')\n",
    "bins = np.linspace(-3*np.sqrt(dt), 3*np.sqrt(dt), 30)\n",
    "def init_hist():\n",
    "    axS.cla(); axG.cla()\n",
    "    return []\n",
    "def animate_hist(i):\n",
    "    axS.cla(); axG.cla()\n",
    "    axS.hist(np.array(sob[:, i, 0]), bins=bins, alpha=0.8, color='tab:blue')\n",
    "    axG.hist(np.array(gauss[:, i]), bins=bins, alpha=0.8, color='tab:orange')\n",
    "    axS.set_ylim(0, max(axS.get_ylim()[1], axG.get_ylim()[1]))\n",
    "    axS.set_title(f'Sobol increments step {i+1}')\n",
    "    axG.set_title(f'Gaussian increments step {i+1}')\n",
    "    return []\n",
    "ani_hist = animation.FuncAnimation(figA, animate_hist, init_func=init_hist, frames=min(steps, 50), interval=150, blit=False)\n",
    "ani_hist.to_jshtml()\n"
   ]
  },
  {
   "cell_type": "code",
   "execution_count": null,
   "metadata": {},
   "outputs": [],
   "source": [
    "import numpy as np\n",
    "import jax, jax.numpy as jnp\n",
    "import matplotlib.pyplot as plt\n",
    "from bsde_dsgE.utils.sde_tools import sobol_brownian\n",
    "from bsde_dsgE.core.outer_loop import pareto_bisection\n",
    "FAST = bool(__import__('os').environ.get('NOTEBOOK_FAST', ''))\n"
   ]
  },
  {
   "cell_type": "markdown",
   "metadata": {},
   "source": [
    "## Sobol Brownian vs Gaussian"
   ]
  },
  {
   "cell_type": "code",
   "execution_count": null,
   "metadata": {},
   "outputs": [],
   "source": [
    "steps = 64 if FAST else 256\n",
    "batch = 32 if FAST else 256\n",
    "dt = 1.0 / steps\n",
    "sob = sobol_brownian(dim=1, steps=steps, batch=batch, dt=dt)[...,0]\n",
    "gauss = jax.random.normal(jax.random.PRNGKey(0), (batch, steps)) * np.sqrt(dt)\n",
    "sob_path = np.cumsum(np.array(sob[0]))\n",
    "gauss_path = np.cumsum(np.array(gauss[0]))\n",
    "fig, ax = plt.subplots(1,3, figsize=(14,3))\n",
    "ax[0].plot(sob_path); ax[0].set_title('Sobol Brownian (1 path)')\n",
    "ax[1].plot(gauss_path); ax[1].set_title('Gaussian Brownian (1 path)')\n",
    "# Histogram of increments comparison\n",
    "ax[2].hist(np.array(sob).ravel(), bins=30, alpha=0.6, label='Sobol')\n",
    "ax[2].hist(np.array(gauss).ravel(), bins=30, alpha=0.6, label='Gaussian')\n",
    "ax[2].legend(); ax[2].set_title('Increments histogram')\n",
    "fig.tight_layout(); fig\n"
   ]
  },
  {
   "cell_type": "markdown",
   "metadata": {},
   "source": [
    "## Bisection Convergence Animation"
   ]
  },
  {
   "cell_type": "code",
   "execution_count": null,
   "metadata": {
    "tags": [
     "hide-output"
    ]
   },
   "outputs": [],
   "source": [
    "import matplotlib.animation as animation\n",
    "\n",
    "def f(a): return a - 0.3  # root at 0.3\n",
    "lo, hi = 0.0, 1.0\n",
    "frames = []\n",
    "for _ in range(20):\n",
    "    mid = 0.5*(lo+hi)\n",
    "    frames.append((lo, hi, mid))\n",
    "    if f(mid) > 0: hi = mid\n",
    "    else: lo = mid\n",
    "\n",
    "fig2, ax2 = plt.subplots(figsize=(5,3))\n",
    "ax2.set_xlim(0,1); ax2.set_ylim(-0.1, 1.1)\n",
    "line, = ax2.plot([], [], 'k-')\n",
    "lo_pt, = ax2.plot([], [], 'ro'); hi_pt, = ax2.plot([], [], 'bo'); mid_pt, = ax2.plot([], [], 'go')\n",
    "ax2.plot([0,1], [f(0), f(1)], alpha=0.0)  # fix axes\n",
    "\n",
    "def init():\n",
    "    line.set_data([], [])\n",
    "    lo_pt.set_data([], [])\n",
    "    hi_pt.set_data([], [])\n",
    "    mid_pt.set_data([], [])\n",
    "    return line, lo_pt, hi_pt, mid_pt\n",
    "\n",
    "def animate(i):\n",
    "    lo, hi, mid = frames[i]\n",
    "    xs = np.linspace(lo, hi, 100)\n",
    "    ys = xs - 0.3\n",
    "    line.set_data(xs, ys)\n",
    "    lo_pt.set_data([lo], [f(lo)])\n",
    "    hi_pt.set_data([hi], [f(hi)])\n",
    "    mid_pt.set_data([mid], [f(mid)])\n",
    "    return line, lo_pt, hi_pt, mid_pt\n",
    "\n",
    "ani = animation.FuncAnimation(fig2, animate, init_func=init, frames=len(frames), interval=200, blit=True)\n",
    "ani.to_jshtml()\n"
  },
  {
   "cell_type": "markdown",
   "metadata": {},
   "source": [
    "## Variance growth and antithetic pairing\n",
    "\n",
    "We confirm that var(B_t) ≈ t and show the effect of antithetic pairing (Sobol generator uses pairing)."
   ]
  },
  {
   "cell_type": "code",
   "execution_count": null,
   "metadata": {},
   "outputs": [],
   "source": [
    "times = np.arange(1, steps+1) * dt\n",
    "sob_paths = np.cumsum(np.array(sob), axis=1)\n",
    "gauss_paths = np.cumsum(np.array(gauss), axis=1)\n",
    "sob_var = sob_paths.var(axis=0)\n",
    "gauss_var = gauss_paths.var(axis=0)\n",
    "fig3, ax3 = plt.subplots(figsize=(6,3))\n",
    "ax3.plot(times, sob_var, label='Sobol var')\n",
    "ax3.plot(times, gauss_var, label='Gaussian var')\n",
    "ax3.plot(times, times, 'k--', alpha=0.5, label='t')\n",
    "ax3.legend(); ax3.set_title('Variance growth vs time'); ax3.set_xlabel('t'); ax3.set_ylabel('var')\n",
    "fig3.tight_layout(); fig3\n"
   ]
  }
  ,
  {
   "cell_type": "markdown",
   "metadata": {},
   "source": [
    "## ResNetND Feature Maps\n",
    "\n",
    "Visualise outputs of a small `ResNetND` over a 2D input grid. We plot the scalar head `y(x)` and the two `z` components."
   ]
  },
  {
   "cell_type": "code",
   "execution_count": null,
   "metadata": {},
   "outputs": [],
   "source": [
    "import numpy as np\n",
    "import jax, jax.numpy as jnp\n",
    "from bsde_dsgE.core.nets import ResNetND\n",
    "net2 = ResNetND.make(dim=2, depth=2, width=16, key=jax.random.PRNGKey(0))\n",
    "# Build a grid in R^2\n",
    "g = np.linspace(-1.5, 1.5, 60)\n",
    "X1, X2 = np.meshgrid(g, g)\n",
    "grid = jnp.stack([jnp.array(X1).ravel(), jnp.array(X2).ravel()], axis=1)\n",
    "y, z = net2(jnp.zeros((grid.shape[0],)), grid)\n",
    "Y = np.array(y).reshape(X1.shape)\n",
    "Z1 = np.array(z[:,0]).reshape(X1.shape)\n",
    "Z2 = np.array(z[:,1]).reshape(X1.shape)\n",
    "fig4, ax4 = plt.subplots(1,3, figsize=(12,3), constrained_layout=True)\n",
    "im0 = ax4[0].imshow(Y, extent=[g.min(), g.max(), g.min(), g.max()], origin='lower', aspect='auto'); ax4[0].set_title('y(x)')\n",
    "im1 = ax4[1].imshow(Z1, extent=[g.min(), g.max(), g.min(), g.max()], origin='lower', aspect='auto'); ax4[1].set_title('z1(x)')\n",
    "im2 = ax4[2].imshow(Z2, extent=[g.min(), g.max(), g.min(), g.max()], origin='lower', aspect='auto'); ax4[2].set_title('z2(x)')\n",
    "fig4.colorbar(im0, ax=ax4[0]); fig4.colorbar(im1, ax=ax4[1]); fig4.colorbar(im2, ax=ax4[2])\n",
    "fig4\n"
   ]
  },
  {
   "cell_type": "markdown",
   "metadata": {},
   "source": [
    "## Antithetic Pairing Demo (Sobol Brownian)\n",
    "\n",
    "Sobol generator uses antithetic pairing. We verify path pairs are negatives (correlation ≈ −1) and visualise one pair."
   ]
  },
  {
   "cell_type": "code",
   "execution_count": null,
   "metadata": {},
   "outputs": [],
   "source": [
    "pair_a = np.array(sob[0]).ravel()\n",
    "pair_b = np.array(sob[batch//2]).ravel()\n",
    "corr = np.corrcoef(pair_a, pair_b)[0,1]\n",
    "print({'pair_corr': float(corr)})\n",
    "# Show one paired path vs its antithetic\n",
    "pa = np.cumsum(np.array(sob[0,:,0]))\n",
    "pb = np.cumsum(np.array(sob[batch//2,:,0]))\n",
    "figP, axP = plt.subplots(figsize=(5,3))\n",
    "axP.plot(pa, label='path A'); axP.plot(pb, label='path B (anti)')\n",
    "axP.legend(); axP.set_title('Antithetic path pair (Sobol)'); figP.tight_layout(); figP\n"
   ]
  }
 ],
 "metadata": {
  "kernelspec": {
   "display_name": "Python 3",
   "language": "python",
   "name": "python3"
  },
  "language_info": {
   "name": "python",
   "version": "3.11"
  }
 },
 "nbformat": 4,
 "nbformat_minor": 5
}
