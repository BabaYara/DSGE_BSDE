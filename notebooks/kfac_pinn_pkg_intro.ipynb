{
 "cells": [
  {"cell_type": "markdown", "metadata": {}, "source": ["# Introduction to `kfac_pinn`\n", "Demonstrate solving a 1D Poisson equation using the package."]},
  {"cell_type": "code", "metadata": {}, "source": [
    "import jax, jax.numpy as jnp\n",
    "import equinox as eqx\n",
    "from kfac_pinn import KFACPINNSolver, pinn_loss\n",
    "\n",
    "net = eqx.nn.MLP(in_size=1, out_size=1, width_size=8, depth=2, key=jax.random.PRNGKey(0))\n",
    "def loss_fn(net, x):\n",
    "    bc = jnp.array([0.0, 1.0])\n",
    "    return pinn_loss(lambda z: net(z).squeeze(), x, bc)\n",
    "\n",
    "solver = KFACPINNSolver(net=net, loss_fn=loss_fn, lr=1e-2, num_steps=5)\n",
    "xs = jnp.linspace(0.0, 1.0, 8).reshape(-1, 1)\n",
    "losses = solver.run(xs, jax.random.PRNGKey(1))\n",
    "float(losses[-1])"], "execution_count": null, "outputs": []}
 ],
 "metadata": {"kernelspec": {"display_name": "Python 3", "language": "python", "name": "python3"}},
 "nbformat": 4,
 "nbformat_minor": 5
}
