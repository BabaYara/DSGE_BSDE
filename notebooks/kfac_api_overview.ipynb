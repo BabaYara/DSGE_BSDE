{
 "cells": [
  {
   "cell_type": "markdown",
   "metadata": {},
   "source": [
    "# KFAC API Overview\n",
    "Simple demonstration of the `bsde_dsgE` package."
   ]
  },
  {
   "cell_type": "code",
   "execution_count": null,
   "metadata": {},
   "outputs": [],
   "source": [
    "import jax, jax.numpy as jnp\n",
    "import equinox as eqx\n",
    "from bsde_dsgE import KFACPINNSolver, pinn_loss\n",
    "\n",
    "key = jax.random.PRNGKey(0)\n",
    "net = eqx.nn.MLP(in_size=1, out_size=1, width_size=8, depth=2, key=key)\n",
    "\n",
    "def loss_fn(net, x):\n",
    "    bc = jnp.array([0.0, 1.0])\n",
    "    return pinn_loss(lambda y: net(y), x, bc)\n",
    "\n",
    "solver = KFACPINNSolver(net=net, loss_fn=loss_fn, lr=1e-2, num_steps=5)\n",
    "data = jnp.linspace(0.0, 1.0, 16)[:, None]\n",
    "losses = solver.run(data, key)\n",
    "print(losses)\n"
   ]
  }
 ],
 "metadata": {
  "kernelspec": {
   "display_name": "Python 3",
   "language": "python",
   "name": "python3"
  },
  "language_info": {
   "name": "python",
   "version": "3.11"
  }
 },
 "nbformat": 4,
 "nbformat_minor": 5
}
