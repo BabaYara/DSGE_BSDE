{
 "cells": [
  {"cell_type": "markdown", "metadata": {}, "source": ["# Sobol and Pareto Demo\n", "Demonstrate new utilities from `bsde_dsgE.core`."]},
  {"cell_type": "code", "metadata": {}, "source": ["from bsde_dsgE.core.grids import sobol_brownian\n", "import jax.numpy as jnp\n", "paths = sobol_brownian(steps=4, batch=8, dt=0.1)\n", "print(paths.shape)"]},
  {"cell_type": "code", "metadata": {}, "source": ["from bsde_dsgE.core.outer_loop import pareto_bisection\n", "root = pareto_bisection(lambda x: x**2 - 2, 0.0, 2.0)\n", "print(float(root))"]}
 ],
 "metadata": {"kernelspec": {"display_name": "Python 3", "language": "python", "name": "python3"}, "language_info": {"name": "python"}},
 "nbformat": 4,
 "nbformat_minor": 5
}
