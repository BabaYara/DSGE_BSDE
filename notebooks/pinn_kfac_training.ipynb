{
 "cells": [
  {
   "cell_type": "markdown",
   "metadata": {},
   "source": [
    "# PINN Training with KFAC\n",
    "\n",
    "This notebook builds a simple PINN using JAX/Equinox and trains it with the `KFACPINNSolver`."
   ]
  },
  {
   "cell_type": "code",
   "metadata": {},
   "source": [
    "import jax\n",
    "import jax.numpy as jnp\n",
    "import equinox as eqx\n",
    "import matplotlib.pyplot as plt\n",
    "from bsde_seed.bsde_dsgE.optim import KFACPINNSolver\n"
   ]
  },
  {
   "cell_type": "code",
   "metadata": {},
   "source": [
    "# Define a simple PDE: y''(x) + y(x) = 0 with y(0)=0, y(pi)=0 (solution sin(x))\n",
    "def pinn_loss(net, x):\n",
    "    def y_fn(x):\n",
    "        return net(x)[0]\n",
    "    dy_dx = jax.vmap(jax.grad(y_fn))(x)\n",
    "    d2y_dx2 = jax.vmap(jax.grad(jax.grad(y_fn)))(x)\n",
    "    resid = d2y_dx2 + y_fn(x)\n",
    "    bc = jnp.array([\n",
    "        y_fn(jnp.array([0.0])),\n",
    "        y_fn(jnp.array([jnp.pi]))\n",
    "    ])\n",
    "    return jnp.mean(resid ** 2) + jnp.mean(bc ** 2)\n",
    "\n",
    "key = jax.random.PRNGKey(0)\n",
    "net = eqx.nn.MLP(in_size=1, out_size=1, width_size=32, depth=2, key=key)\n",
    "solver = KFACPINNSolver(net=net, loss_fn=pinn_loss, lr=1e-2, num_steps=200)\n",
    "xs = jnp.linspace(0, jnp.pi, 64).reshape(-1, 1)\n",
    "losses = solver.run(xs, key)\n"
   ]
  },
  {
   "cell_type": "code",
   "metadata": {},
   "source": [
    "plt.plot(losses)\n",
    "plt.xlabel('step')\n",
    "plt.ylabel('loss')\n",
    "plt.title('PINN convergence with KFAC')\n",
    "plt.show()\n"
   ]
  }
 ],
 "metadata": {
  "kernelspec": {
   "display_name": "Python 3",
   "language": "python",
   "name": "python3"
  },
  "language_info": {
   "name": "python",
   "version": "3.12"
  }
 },
 "nbformat": 4,
 "nbformat_minor": 5
}
