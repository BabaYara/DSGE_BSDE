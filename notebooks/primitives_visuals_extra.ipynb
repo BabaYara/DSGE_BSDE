{
 "cells": [
  {
   "cell_type": "markdown",
   "metadata": {},
   "source": [
    "# Primitives — Extra Figures\n",
    "\n",
    "Complementary visuals to the main primitives notebook: 2D diffusion heatmap and a rolling path dispersion animation."
   ]
  },
  {
   "cell_type": "code",
   "execution_count": null,
   "metadata": {},
   "outputs": [],
   "source": [
    "import numpy as np\n",
    "import matplotlib.pyplot as plt\n",
    "from matplotlib import animation\n",
    "import jax, jax.numpy as jnp\n"
   ]
  },
  {
   "cell_type": "markdown",
   "metadata": {},
   "source": [
    "## 2D Diffusion Heatmap (Toy)\n",
    "State-dependent diagonal diffusion magnitude visualized over a grid."
   ]
  },
  {
   "cell_type": "code",
   "execution_count": null,
   "metadata": {},
   "outputs": [],
   "source": [
    "g = np.linspace(-2.0, 2.0, 80)\n",
    "X1, X2 = np.meshgrid(g, g)\n",
    "sig = lambda u: 1/(1+np.exp(-u))\n",
    "s1 = 0.1 + 0.2*sig(X1)\n",
    "s2 = 0.1 + 0.2*sig(X2)\n",
    "Sigma_norm = np.sqrt(s1**2 + s2**2)\n",
    "figH, axH = plt.subplots(figsize=(4.8,3.6))\n",
    "im = axH.imshow(Sigma_norm, extent=[g.min(), g.max(), g.min(), g.max()], origin='lower', cmap='viridis', aspect='auto')\n",
    "figH.colorbar(im, ax=axH); axH.set_title('||sigma(x)||_F over grid'); axH.set_xlabel('x1'); axH.set_ylabel('x2')\n",
    "figH.tight_layout(); figH\n"
   ]
  },
  {
   "cell_type": "markdown",
   "metadata": {},
   "source": [
    "## Rolling Path Dispersion (Animation)\n",
    "Animate how the cross-sectional dispersion of a toy OU process evolves across paths."
   ]
  },
  {
   "cell_type": "code",
   "execution_count": null,
   "metadata": {
    "tags": [
     "hide-output"
    ]
   },
   "outputs": [],
   "source": [
    "# Toy OU simulation (noise only)\n",
    "steps, paths, dt = 120, 64, 0.02\n",
    "x = np.zeros((paths,))\n",
    "xs = [x.copy()]\n",
    "for i in range(steps):\n",
    "    dW = np.random.normal(0, np.sqrt(dt), size=(paths,))\n",
    "    x = 0.98*x + 0.3*dW\n",
    "    xs.append(x.copy())\n",
    "xs = np.stack(xs, axis=0)\n",
    "fig, ax = plt.subplots(figsize=(5,3))\n",
    "ax.set_title('Cross-sectional dispersion over time'); ax.set_xlabel('time step'); ax.set_ylabel('std across paths')\n",
    "line, = ax.plot([], [], lw=2)\n",
    "def init():\n",
    "    line.set_data([], [])\n",
    "    return (line,)\n",
    "def animate(i):\n",
    "    t = np.arange(i+1)\n",
    "    s = xs[:i+1].std(axis=1)\n",
    "    line.set_data(t, s)\n",
    "    ax.set_xlim(0, steps); ax.set_ylim(0, xs.std()*1.2 + 1e-6)\n",
    "    return (line,)\n",
    "ani = animation.FuncAnimation(fig, animate, init_func=init, frames=steps, interval=100, blit=True)\n",
    "ani.to_jshtml()\n"
   ]
  }
 ],
 "metadata": {
  "kernelspec": {
   "display_name": "Python 3",
   "language": "python",
   "name": "python3"
  },
  "language_info": {
   "name": "python",
   "version": "3.11"
  }
 },
 "nbformat": 4,
 "nbformat_minor": 5
}

